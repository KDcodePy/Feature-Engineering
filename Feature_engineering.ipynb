{
 "cells": [
  {
   "attachments": {},
   "cell_type": "markdown",
   "metadata": {},
   "source": [
    "# Feature Engineering\n",
    "Author: Kim Hazed Delfino"
   ]
  },
  {
   "attachments": {},
   "cell_type": "markdown",
   "metadata": {},
   "source": [
    "## Imports"
   ]
  },
  {
   "cell_type": "code",
   "execution_count": 1,
   "metadata": {},
   "outputs": [],
   "source": [
    "import pandas as pd\n",
    "import numpy as np\n",
    "# Libs for plots\n",
    "import matplotlib.pyplot as plt\n",
    "import seaborn as sns\n",
    "# Necessary libs \n",
    "from sklearn.model_selection import train_test_split , GridSearchCV\n",
    "from sklearn.preprocessing import StandardScaler, OneHotEncoder\n",
    "from sklearn.pipeline import make_pipeline\n",
    "from sklearn.decomposition import PCA\n",
    "from sklearn.compose import make_column_selector, make_column_transformer\n",
    "# Models\n",
    "from sklearn.tree import DecisionTreeRegressor\n",
    "from sklearn.ensemble import RandomForestRegressor, BaggingRegressor\n",
    "# Metrics\n",
    "from sklearn.metrics import mean_absolute_error, mean_squared_error, r2_score\n"
   ]
  },
  {
   "attachments": {},
   "cell_type": "markdown",
   "metadata": {},
   "source": [
    "## Load the Data"
   ]
  },
  {
   "cell_type": "code",
   "execution_count": 2,
   "metadata": {},
   "outputs": [],
   "source": [
    "path = r\"C:\\Users\\kdelfino\\Documents\\GitHub\\Feature_Engineering\\bikeshare_train - bikeshare_train.csv\"\n",
    "# Base Dataframe\n",
    "df_base = pd.read_csv(path)\n",
    "# Dataframe subject for Feature Engineering\n",
    "df_engineered = df_base.copy()"
   ]
  },
  {
   "attachments": {},
   "cell_type": "markdown",
   "metadata": {},
   "source": [
    "## Exploratory Data Analysis"
   ]
  },
  {
   "cell_type": "code",
   "execution_count": 3,
   "metadata": {},
   "outputs": [
    {
     "name": "stdout",
     "output_type": "stream",
     "text": [
      "<class 'pandas.core.frame.DataFrame'>\n",
      "RangeIndex: 10886 entries, 0 to 10885\n",
      "Data columns (total 12 columns):\n",
      " #   Column      Non-Null Count  Dtype  \n",
      "---  ------      --------------  -----  \n",
      " 0   datetime    10886 non-null  object \n",
      " 1   season      10886 non-null  int64  \n",
      " 2   holiday     10886 non-null  int64  \n",
      " 3   workingday  10886 non-null  int64  \n",
      " 4   weather     10886 non-null  int64  \n",
      " 5   temp        10886 non-null  float64\n",
      " 6   atemp       10886 non-null  float64\n",
      " 7   humidity    10886 non-null  int64  \n",
      " 8   windspeed   10886 non-null  float64\n",
      " 9   casual      10886 non-null  int64  \n",
      " 10  registered  10886 non-null  int64  \n",
      " 11  count       10886 non-null  int64  \n",
      "dtypes: float64(3), int64(8), object(1)\n",
      "memory usage: 1020.7+ KB\n"
     ]
    }
   ],
   "source": [
    "df_base.info()"
   ]
  },
  {
   "cell_type": "code",
   "execution_count": 4,
   "metadata": {},
   "outputs": [
    {
     "data": {
      "text/plain": [
       "0"
      ]
     },
     "execution_count": 4,
     "metadata": {},
     "output_type": "execute_result"
    }
   ],
   "source": [
    "# Check for duplicate values \n",
    "df_base.duplicated().sum()"
   ]
  },
  {
   "attachments": {},
   "cell_type": "markdown",
   "metadata": {},
   "source": [
    "- Dropping `casual` and `registered` column as they are `redundant` to our target `count` "
   ]
  },
  {
   "cell_type": "code",
   "execution_count": 5,
   "metadata": {},
   "outputs": [],
   "source": [
    "# Drop casual and registered on both dataframes\n",
    "df_base.drop(columns=[\"casual\",\"registered\"], inplace=True)\n",
    "df_engineered.drop(columns=[\"casual\",\"registered\"], inplace=True)"
   ]
  },
  {
   "cell_type": "code",
   "execution_count": 6,
   "metadata": {},
   "outputs": [
    {
     "name": "stdout",
     "output_type": "stream",
     "text": [
      "<class 'pandas.core.frame.DataFrame'>\n",
      "RangeIndex: 10886 entries, 0 to 10885\n",
      "Data columns (total 10 columns):\n",
      " #   Column      Non-Null Count  Dtype  \n",
      "---  ------      --------------  -----  \n",
      " 0   datetime    10886 non-null  object \n",
      " 1   season      10886 non-null  int64  \n",
      " 2   holiday     10886 non-null  int64  \n",
      " 3   workingday  10886 non-null  int64  \n",
      " 4   weather     10886 non-null  int64  \n",
      " 5   temp        10886 non-null  float64\n",
      " 6   atemp       10886 non-null  float64\n",
      " 7   humidity    10886 non-null  int64  \n",
      " 8   windspeed   10886 non-null  float64\n",
      " 9   count       10886 non-null  int64  \n",
      "dtypes: float64(3), int64(6), object(1)\n",
      "memory usage: 850.6+ KB\n"
     ]
    }
   ],
   "source": [
    "# Double check\n",
    "df_base.info()"
   ]
  },
  {
   "cell_type": "code",
   "execution_count": 7,
   "metadata": {},
   "outputs": [
    {
     "data": {
      "text/html": [
       "<div>\n",
       "<style scoped>\n",
       "    .dataframe tbody tr th:only-of-type {\n",
       "        vertical-align: middle;\n",
       "    }\n",
       "\n",
       "    .dataframe tbody tr th {\n",
       "        vertical-align: top;\n",
       "    }\n",
       "\n",
       "    .dataframe thead th {\n",
       "        text-align: right;\n",
       "    }\n",
       "</style>\n",
       "<table border=\"1\" class=\"dataframe\">\n",
       "  <thead>\n",
       "    <tr style=\"text-align: right;\">\n",
       "      <th></th>\n",
       "      <th>datetime</th>\n",
       "      <th>season</th>\n",
       "      <th>holiday</th>\n",
       "      <th>workingday</th>\n",
       "      <th>weather</th>\n",
       "      <th>temp</th>\n",
       "      <th>atemp</th>\n",
       "      <th>humidity</th>\n",
       "      <th>windspeed</th>\n",
       "      <th>count</th>\n",
       "    </tr>\n",
       "  </thead>\n",
       "  <tbody>\n",
       "    <tr>\n",
       "      <th>7022</th>\n",
       "      <td>2012-04-10 22:00:00</td>\n",
       "      <td>2</td>\n",
       "      <td>0</td>\n",
       "      <td>1</td>\n",
       "      <td>1</td>\n",
       "      <td>16.40</td>\n",
       "      <td>20.455</td>\n",
       "      <td>37</td>\n",
       "      <td>32.9975</td>\n",
       "      <td>127</td>\n",
       "    </tr>\n",
       "    <tr>\n",
       "      <th>3027</th>\n",
       "      <td>2011-07-15 1:00:00</td>\n",
       "      <td>3</td>\n",
       "      <td>0</td>\n",
       "      <td>1</td>\n",
       "      <td>1</td>\n",
       "      <td>25.42</td>\n",
       "      <td>29.545</td>\n",
       "      <td>73</td>\n",
       "      <td>12.9980</td>\n",
       "      <td>20</td>\n",
       "    </tr>\n",
       "    <tr>\n",
       "      <th>7358</th>\n",
       "      <td>2012-05-05 23:00:00</td>\n",
       "      <td>2</td>\n",
       "      <td>0</td>\n",
       "      <td>0</td>\n",
       "      <td>2</td>\n",
       "      <td>22.96</td>\n",
       "      <td>26.515</td>\n",
       "      <td>83</td>\n",
       "      <td>19.0012</td>\n",
       "      <td>149</td>\n",
       "    </tr>\n",
       "    <tr>\n",
       "      <th>8441</th>\n",
       "      <td>2012-07-13 2:00:00</td>\n",
       "      <td>3</td>\n",
       "      <td>0</td>\n",
       "      <td>1</td>\n",
       "      <td>2</td>\n",
       "      <td>27.06</td>\n",
       "      <td>31.060</td>\n",
       "      <td>61</td>\n",
       "      <td>6.0032</td>\n",
       "      <td>17</td>\n",
       "    </tr>\n",
       "    <tr>\n",
       "      <th>4132</th>\n",
       "      <td>2011-10-04 5:00:00</td>\n",
       "      <td>4</td>\n",
       "      <td>0</td>\n",
       "      <td>1</td>\n",
       "      <td>1</td>\n",
       "      <td>16.40</td>\n",
       "      <td>20.455</td>\n",
       "      <td>82</td>\n",
       "      <td>8.9981</td>\n",
       "      <td>27</td>\n",
       "    </tr>\n",
       "  </tbody>\n",
       "</table>\n",
       "</div>"
      ],
      "text/plain": [
       "                 datetime  season  holiday  workingday  weather   temp  \\\n",
       "7022  2012-04-10 22:00:00       2        0           1        1  16.40   \n",
       "3027   2011-07-15 1:00:00       3        0           1        1  25.42   \n",
       "7358  2012-05-05 23:00:00       2        0           0        2  22.96   \n",
       "8441   2012-07-13 2:00:00       3        0           1        2  27.06   \n",
       "4132   2011-10-04 5:00:00       4        0           1        1  16.40   \n",
       "\n",
       "       atemp  humidity  windspeed  count  \n",
       "7022  20.455        37    32.9975    127  \n",
       "3027  29.545        73    12.9980     20  \n",
       "7358  26.515        83    19.0012    149  \n",
       "8441  31.060        61     6.0032     17  \n",
       "4132  20.455        82     8.9981     27  "
      ]
     },
     "execution_count": 7,
     "metadata": {},
     "output_type": "execute_result"
    }
   ],
   "source": [
    "df_engineered.sample(5)"
   ]
  },
  {
   "cell_type": "code",
   "execution_count": 8,
   "metadata": {},
   "outputs": [],
   "source": [
    "# Parse Hour of day from datetime\n",
    "df_engineered[\"time\"] = df_engineered[\"datetime\"].apply(lambda x: x.split(\" \")[1])"
   ]
  },
  {
   "cell_type": "code",
   "execution_count": 9,
   "metadata": {},
   "outputs": [],
   "source": [
    "# Parse YYYY-MM-YY from datetime into respective columns\n",
    "df_engineered[\"year\"] = df_engineered[\"datetime\"].apply(lambda x: x.split(\"-\")[0])\n",
    "df_engineered[\"month\"] = df_engineered[\"datetime\"].apply(lambda x: x.split(\"-\")[1])\n",
    "df_engineered[\"datetime\"]= df_engineered[\"datetime\"].apply(lambda x: x.split(\" \")[0]) # remove time from datetime\n",
    "df_engineered[\"day\"] = df_engineered[\"datetime\"].apply(lambda x: x.split(\"-\")[2])"
   ]
  },
  {
   "attachments": {},
   "cell_type": "markdown",
   "metadata": {},
   "source": [
    "- Now we that YYYY-MM-DD-T are separated, we can now drop the `datetime` and `season` columns to prevent redundancy "
   ]
  },
  {
   "cell_type": "code",
   "execution_count": 10,
   "metadata": {},
   "outputs": [],
   "source": [
    "# Drop datetime and season\n",
    "df_engineered.drop(columns=[\"datetime\",\"season\"], inplace=True)"
   ]
  },
  {
   "cell_type": "code",
   "execution_count": 11,
   "metadata": {},
   "outputs": [
    {
     "data": {
      "text/html": [
       "<div>\n",
       "<style scoped>\n",
       "    .dataframe tbody tr th:only-of-type {\n",
       "        vertical-align: middle;\n",
       "    }\n",
       "\n",
       "    .dataframe tbody tr th {\n",
       "        vertical-align: top;\n",
       "    }\n",
       "\n",
       "    .dataframe thead th {\n",
       "        text-align: right;\n",
       "    }\n",
       "</style>\n",
       "<table border=\"1\" class=\"dataframe\">\n",
       "  <thead>\n",
       "    <tr style=\"text-align: right;\">\n",
       "      <th></th>\n",
       "      <th>holiday</th>\n",
       "      <th>workingday</th>\n",
       "      <th>weather</th>\n",
       "      <th>temp</th>\n",
       "      <th>atemp</th>\n",
       "      <th>humidity</th>\n",
       "      <th>windspeed</th>\n",
       "      <th>count</th>\n",
       "      <th>time</th>\n",
       "      <th>year</th>\n",
       "      <th>month</th>\n",
       "      <th>day</th>\n",
       "    </tr>\n",
       "  </thead>\n",
       "  <tbody>\n",
       "    <tr>\n",
       "      <th>0</th>\n",
       "      <td>0</td>\n",
       "      <td>0</td>\n",
       "      <td>1</td>\n",
       "      <td>9.84</td>\n",
       "      <td>14.395</td>\n",
       "      <td>81</td>\n",
       "      <td>0.0</td>\n",
       "      <td>16</td>\n",
       "      <td>0:00:00</td>\n",
       "      <td>2011</td>\n",
       "      <td>01</td>\n",
       "      <td>01</td>\n",
       "    </tr>\n",
       "    <tr>\n",
       "      <th>1</th>\n",
       "      <td>0</td>\n",
       "      <td>0</td>\n",
       "      <td>1</td>\n",
       "      <td>9.02</td>\n",
       "      <td>13.635</td>\n",
       "      <td>80</td>\n",
       "      <td>0.0</td>\n",
       "      <td>40</td>\n",
       "      <td>1:00:00</td>\n",
       "      <td>2011</td>\n",
       "      <td>01</td>\n",
       "      <td>01</td>\n",
       "    </tr>\n",
       "    <tr>\n",
       "      <th>2</th>\n",
       "      <td>0</td>\n",
       "      <td>0</td>\n",
       "      <td>1</td>\n",
       "      <td>9.02</td>\n",
       "      <td>13.635</td>\n",
       "      <td>80</td>\n",
       "      <td>0.0</td>\n",
       "      <td>32</td>\n",
       "      <td>2:00:00</td>\n",
       "      <td>2011</td>\n",
       "      <td>01</td>\n",
       "      <td>01</td>\n",
       "    </tr>\n",
       "    <tr>\n",
       "      <th>3</th>\n",
       "      <td>0</td>\n",
       "      <td>0</td>\n",
       "      <td>1</td>\n",
       "      <td>9.84</td>\n",
       "      <td>14.395</td>\n",
       "      <td>75</td>\n",
       "      <td>0.0</td>\n",
       "      <td>13</td>\n",
       "      <td>3:00:00</td>\n",
       "      <td>2011</td>\n",
       "      <td>01</td>\n",
       "      <td>01</td>\n",
       "    </tr>\n",
       "    <tr>\n",
       "      <th>4</th>\n",
       "      <td>0</td>\n",
       "      <td>0</td>\n",
       "      <td>1</td>\n",
       "      <td>9.84</td>\n",
       "      <td>14.395</td>\n",
       "      <td>75</td>\n",
       "      <td>0.0</td>\n",
       "      <td>1</td>\n",
       "      <td>4:00:00</td>\n",
       "      <td>2011</td>\n",
       "      <td>01</td>\n",
       "      <td>01</td>\n",
       "    </tr>\n",
       "  </tbody>\n",
       "</table>\n",
       "</div>"
      ],
      "text/plain": [
       "   holiday  workingday  weather  temp   atemp  humidity  windspeed  count  \\\n",
       "0        0           0        1  9.84  14.395        81        0.0     16   \n",
       "1        0           0        1  9.02  13.635        80        0.0     40   \n",
       "2        0           0        1  9.02  13.635        80        0.0     32   \n",
       "3        0           0        1  9.84  14.395        75        0.0     13   \n",
       "4        0           0        1  9.84  14.395        75        0.0      1   \n",
       "\n",
       "      time  year month day  \n",
       "0  0:00:00  2011    01  01  \n",
       "1  1:00:00  2011    01  01  \n",
       "2  2:00:00  2011    01  01  \n",
       "3  3:00:00  2011    01  01  \n",
       "4  4:00:00  2011    01  01  "
      ]
     },
     "execution_count": 11,
     "metadata": {},
     "output_type": "execute_result"
    }
   ],
   "source": [
    "# Double check \n",
    "df_engineered.head()"
   ]
  },
  {
   "cell_type": "code",
   "execution_count": 12,
   "metadata": {},
   "outputs": [],
   "source": [
    "# Convert Celsius to Fahrenheit and rounded to whole numbers\n",
    "def c_to_f(x):\n",
    "    return round((x*9/5+32))"
   ]
  },
  {
   "cell_type": "code",
   "execution_count": 13,
   "metadata": {},
   "outputs": [],
   "source": [
    "# Convert temp and atemp to Fahrenheit\n",
    "df_engineered[\"temp\"] = df_engineered[\"temp\"].apply(c_to_f)\n",
    "df_engineered[\"atemp\"] = df_engineered[\"atemp\"].apply(c_to_f)"
   ]
  },
  {
   "cell_type": "code",
   "execution_count": 14,
   "metadata": {},
   "outputs": [
    {
     "data": {
      "text/html": [
       "<div>\n",
       "<style scoped>\n",
       "    .dataframe tbody tr th:only-of-type {\n",
       "        vertical-align: middle;\n",
       "    }\n",
       "\n",
       "    .dataframe tbody tr th {\n",
       "        vertical-align: top;\n",
       "    }\n",
       "\n",
       "    .dataframe thead th {\n",
       "        text-align: right;\n",
       "    }\n",
       "</style>\n",
       "<table border=\"1\" class=\"dataframe\">\n",
       "  <thead>\n",
       "    <tr style=\"text-align: right;\">\n",
       "      <th></th>\n",
       "      <th>holiday</th>\n",
       "      <th>workingday</th>\n",
       "      <th>weather</th>\n",
       "      <th>temp</th>\n",
       "      <th>atemp</th>\n",
       "      <th>humidity</th>\n",
       "      <th>windspeed</th>\n",
       "      <th>count</th>\n",
       "      <th>time</th>\n",
       "      <th>year</th>\n",
       "      <th>month</th>\n",
       "      <th>day</th>\n",
       "    </tr>\n",
       "  </thead>\n",
       "  <tbody>\n",
       "    <tr>\n",
       "      <th>0</th>\n",
       "      <td>0</td>\n",
       "      <td>0</td>\n",
       "      <td>1</td>\n",
       "      <td>50</td>\n",
       "      <td>58</td>\n",
       "      <td>81</td>\n",
       "      <td>0.0</td>\n",
       "      <td>16</td>\n",
       "      <td>0:00:00</td>\n",
       "      <td>2011</td>\n",
       "      <td>01</td>\n",
       "      <td>01</td>\n",
       "    </tr>\n",
       "    <tr>\n",
       "      <th>1</th>\n",
       "      <td>0</td>\n",
       "      <td>0</td>\n",
       "      <td>1</td>\n",
       "      <td>48</td>\n",
       "      <td>57</td>\n",
       "      <td>80</td>\n",
       "      <td>0.0</td>\n",
       "      <td>40</td>\n",
       "      <td>1:00:00</td>\n",
       "      <td>2011</td>\n",
       "      <td>01</td>\n",
       "      <td>01</td>\n",
       "    </tr>\n",
       "    <tr>\n",
       "      <th>2</th>\n",
       "      <td>0</td>\n",
       "      <td>0</td>\n",
       "      <td>1</td>\n",
       "      <td>48</td>\n",
       "      <td>57</td>\n",
       "      <td>80</td>\n",
       "      <td>0.0</td>\n",
       "      <td>32</td>\n",
       "      <td>2:00:00</td>\n",
       "      <td>2011</td>\n",
       "      <td>01</td>\n",
       "      <td>01</td>\n",
       "    </tr>\n",
       "    <tr>\n",
       "      <th>3</th>\n",
       "      <td>0</td>\n",
       "      <td>0</td>\n",
       "      <td>1</td>\n",
       "      <td>50</td>\n",
       "      <td>58</td>\n",
       "      <td>75</td>\n",
       "      <td>0.0</td>\n",
       "      <td>13</td>\n",
       "      <td>3:00:00</td>\n",
       "      <td>2011</td>\n",
       "      <td>01</td>\n",
       "      <td>01</td>\n",
       "    </tr>\n",
       "    <tr>\n",
       "      <th>4</th>\n",
       "      <td>0</td>\n",
       "      <td>0</td>\n",
       "      <td>1</td>\n",
       "      <td>50</td>\n",
       "      <td>58</td>\n",
       "      <td>75</td>\n",
       "      <td>0.0</td>\n",
       "      <td>1</td>\n",
       "      <td>4:00:00</td>\n",
       "      <td>2011</td>\n",
       "      <td>01</td>\n",
       "      <td>01</td>\n",
       "    </tr>\n",
       "  </tbody>\n",
       "</table>\n",
       "</div>"
      ],
      "text/plain": [
       "   holiday  workingday  weather  temp  atemp  humidity  windspeed  count  \\\n",
       "0        0           0        1    50     58        81        0.0     16   \n",
       "1        0           0        1    48     57        80        0.0     40   \n",
       "2        0           0        1    48     57        80        0.0     32   \n",
       "3        0           0        1    50     58        75        0.0     13   \n",
       "4        0           0        1    50     58        75        0.0      1   \n",
       "\n",
       "      time  year month day  \n",
       "0  0:00:00  2011    01  01  \n",
       "1  1:00:00  2011    01  01  \n",
       "2  2:00:00  2011    01  01  \n",
       "3  3:00:00  2011    01  01  \n",
       "4  4:00:00  2011    01  01  "
      ]
     },
     "execution_count": 14,
     "metadata": {},
     "output_type": "execute_result"
    }
   ],
   "source": [
    "# Double Check\n",
    "df_engineered.head()"
   ]
  },
  {
   "cell_type": "code",
   "execution_count": 15,
   "metadata": {},
   "outputs": [],
   "source": [
    "# Create new col with temp difference relative to atemp \n",
    "df_engineered[\"temp_variance\"] = df_engineered[\"temp\"] - df_engineered[\"atemp\"]\n"
   ]
  },
  {
   "cell_type": "code",
   "execution_count": 16,
   "metadata": {},
   "outputs": [
    {
     "data": {
      "text/html": [
       "<div>\n",
       "<style scoped>\n",
       "    .dataframe tbody tr th:only-of-type {\n",
       "        vertical-align: middle;\n",
       "    }\n",
       "\n",
       "    .dataframe tbody tr th {\n",
       "        vertical-align: top;\n",
       "    }\n",
       "\n",
       "    .dataframe thead th {\n",
       "        text-align: right;\n",
       "    }\n",
       "</style>\n",
       "<table border=\"1\" class=\"dataframe\">\n",
       "  <thead>\n",
       "    <tr style=\"text-align: right;\">\n",
       "      <th></th>\n",
       "      <th>holiday</th>\n",
       "      <th>workingday</th>\n",
       "      <th>weather</th>\n",
       "      <th>temp</th>\n",
       "      <th>atemp</th>\n",
       "      <th>humidity</th>\n",
       "      <th>windspeed</th>\n",
       "      <th>count</th>\n",
       "      <th>time</th>\n",
       "      <th>year</th>\n",
       "      <th>month</th>\n",
       "      <th>day</th>\n",
       "      <th>temp_variance</th>\n",
       "    </tr>\n",
       "  </thead>\n",
       "  <tbody>\n",
       "    <tr>\n",
       "      <th>0</th>\n",
       "      <td>0</td>\n",
       "      <td>0</td>\n",
       "      <td>1</td>\n",
       "      <td>50</td>\n",
       "      <td>58</td>\n",
       "      <td>81</td>\n",
       "      <td>0.0</td>\n",
       "      <td>16</td>\n",
       "      <td>0:00:00</td>\n",
       "      <td>2011</td>\n",
       "      <td>01</td>\n",
       "      <td>01</td>\n",
       "      <td>-8</td>\n",
       "    </tr>\n",
       "    <tr>\n",
       "      <th>1</th>\n",
       "      <td>0</td>\n",
       "      <td>0</td>\n",
       "      <td>1</td>\n",
       "      <td>48</td>\n",
       "      <td>57</td>\n",
       "      <td>80</td>\n",
       "      <td>0.0</td>\n",
       "      <td>40</td>\n",
       "      <td>1:00:00</td>\n",
       "      <td>2011</td>\n",
       "      <td>01</td>\n",
       "      <td>01</td>\n",
       "      <td>-9</td>\n",
       "    </tr>\n",
       "    <tr>\n",
       "      <th>2</th>\n",
       "      <td>0</td>\n",
       "      <td>0</td>\n",
       "      <td>1</td>\n",
       "      <td>48</td>\n",
       "      <td>57</td>\n",
       "      <td>80</td>\n",
       "      <td>0.0</td>\n",
       "      <td>32</td>\n",
       "      <td>2:00:00</td>\n",
       "      <td>2011</td>\n",
       "      <td>01</td>\n",
       "      <td>01</td>\n",
       "      <td>-9</td>\n",
       "    </tr>\n",
       "    <tr>\n",
       "      <th>3</th>\n",
       "      <td>0</td>\n",
       "      <td>0</td>\n",
       "      <td>1</td>\n",
       "      <td>50</td>\n",
       "      <td>58</td>\n",
       "      <td>75</td>\n",
       "      <td>0.0</td>\n",
       "      <td>13</td>\n",
       "      <td>3:00:00</td>\n",
       "      <td>2011</td>\n",
       "      <td>01</td>\n",
       "      <td>01</td>\n",
       "      <td>-8</td>\n",
       "    </tr>\n",
       "    <tr>\n",
       "      <th>4</th>\n",
       "      <td>0</td>\n",
       "      <td>0</td>\n",
       "      <td>1</td>\n",
       "      <td>50</td>\n",
       "      <td>58</td>\n",
       "      <td>75</td>\n",
       "      <td>0.0</td>\n",
       "      <td>1</td>\n",
       "      <td>4:00:00</td>\n",
       "      <td>2011</td>\n",
       "      <td>01</td>\n",
       "      <td>01</td>\n",
       "      <td>-8</td>\n",
       "    </tr>\n",
       "  </tbody>\n",
       "</table>\n",
       "</div>"
      ],
      "text/plain": [
       "   holiday  workingday  weather  temp  atemp  humidity  windspeed  count  \\\n",
       "0        0           0        1    50     58        81        0.0     16   \n",
       "1        0           0        1    48     57        80        0.0     40   \n",
       "2        0           0        1    48     57        80        0.0     32   \n",
       "3        0           0        1    50     58        75        0.0     13   \n",
       "4        0           0        1    50     58        75        0.0      1   \n",
       "\n",
       "      time  year month day  temp_variance  \n",
       "0  0:00:00  2011    01  01             -8  \n",
       "1  1:00:00  2011    01  01             -9  \n",
       "2  2:00:00  2011    01  01             -9  \n",
       "3  3:00:00  2011    01  01             -8  \n",
       "4  4:00:00  2011    01  01             -8  "
      ]
     },
     "execution_count": 16,
     "metadata": {},
     "output_type": "execute_result"
    }
   ],
   "source": [
    "# Double check\n",
    "df_engineered.head()"
   ]
  },
  {
   "attachments": {},
   "cell_type": "markdown",
   "metadata": {},
   "source": [
    "- Now that we have the `temp_variance` we can now drop the `atemp` to prevent redundancy"
   ]
  },
  {
   "cell_type": "code",
   "execution_count": 17,
   "metadata": {},
   "outputs": [],
   "source": [
    "# Drop atemp\n",
    "df_engineered.drop(columns=\"atemp\",inplace=True)"
   ]
  },
  {
   "cell_type": "code",
   "execution_count": 18,
   "metadata": {},
   "outputs": [
    {
     "data": {
      "text/html": [
       "<div>\n",
       "<style scoped>\n",
       "    .dataframe tbody tr th:only-of-type {\n",
       "        vertical-align: middle;\n",
       "    }\n",
       "\n",
       "    .dataframe tbody tr th {\n",
       "        vertical-align: top;\n",
       "    }\n",
       "\n",
       "    .dataframe thead th {\n",
       "        text-align: right;\n",
       "    }\n",
       "</style>\n",
       "<table border=\"1\" class=\"dataframe\">\n",
       "  <thead>\n",
       "    <tr style=\"text-align: right;\">\n",
       "      <th></th>\n",
       "      <th>holiday</th>\n",
       "      <th>workingday</th>\n",
       "      <th>weather</th>\n",
       "      <th>temp</th>\n",
       "      <th>humidity</th>\n",
       "      <th>windspeed</th>\n",
       "      <th>count</th>\n",
       "      <th>time</th>\n",
       "      <th>year</th>\n",
       "      <th>month</th>\n",
       "      <th>day</th>\n",
       "      <th>temp_variance</th>\n",
       "    </tr>\n",
       "  </thead>\n",
       "  <tbody>\n",
       "    <tr>\n",
       "      <th>8112</th>\n",
       "      <td>0</td>\n",
       "      <td>1</td>\n",
       "      <td>2</td>\n",
       "      <td>72</td>\n",
       "      <td>83</td>\n",
       "      <td>15.0013</td>\n",
       "      <td>250</td>\n",
       "      <td>9:00:00</td>\n",
       "      <td>2012</td>\n",
       "      <td>06</td>\n",
       "      <td>18</td>\n",
       "      <td>-6</td>\n",
       "    </tr>\n",
       "    <tr>\n",
       "      <th>4750</th>\n",
       "      <td>1</td>\n",
       "      <td>0</td>\n",
       "      <td>1</td>\n",
       "      <td>57</td>\n",
       "      <td>53</td>\n",
       "      <td>16.9979</td>\n",
       "      <td>66</td>\n",
       "      <td>0:00:00</td>\n",
       "      <td>2011</td>\n",
       "      <td>11</td>\n",
       "      <td>11</td>\n",
       "      <td>-4</td>\n",
       "    </tr>\n",
       "    <tr>\n",
       "      <th>3754</th>\n",
       "      <td>0</td>\n",
       "      <td>1</td>\n",
       "      <td>3</td>\n",
       "      <td>76</td>\n",
       "      <td>88</td>\n",
       "      <td>8.9981</td>\n",
       "      <td>190</td>\n",
       "      <td>9:00:00</td>\n",
       "      <td>2011</td>\n",
       "      <td>09</td>\n",
       "      <td>07</td>\n",
       "      <td>-5</td>\n",
       "    </tr>\n",
       "    <tr>\n",
       "      <th>1268</th>\n",
       "      <td>0</td>\n",
       "      <td>1</td>\n",
       "      <td>1</td>\n",
       "      <td>69</td>\n",
       "      <td>48</td>\n",
       "      <td>19.0012</td>\n",
       "      <td>142</td>\n",
       "      <td>16:00:00</td>\n",
       "      <td>2011</td>\n",
       "      <td>03</td>\n",
       "      <td>17</td>\n",
       "      <td>-7</td>\n",
       "    </tr>\n",
       "    <tr>\n",
       "      <th>10747</th>\n",
       "      <td>0</td>\n",
       "      <td>1</td>\n",
       "      <td>1</td>\n",
       "      <td>47</td>\n",
       "      <td>69</td>\n",
       "      <td>7.0015</td>\n",
       "      <td>34</td>\n",
       "      <td>5:00:00</td>\n",
       "      <td>2012</td>\n",
       "      <td>12</td>\n",
       "      <td>14</td>\n",
       "      <td>-5</td>\n",
       "    </tr>\n",
       "  </tbody>\n",
       "</table>\n",
       "</div>"
      ],
      "text/plain": [
       "       holiday  workingday  weather  temp  humidity  windspeed  count  \\\n",
       "8112         0           1        2    72        83    15.0013    250   \n",
       "4750         1           0        1    57        53    16.9979     66   \n",
       "3754         0           1        3    76        88     8.9981    190   \n",
       "1268         0           1        1    69        48    19.0012    142   \n",
       "10747        0           1        1    47        69     7.0015     34   \n",
       "\n",
       "           time  year month day  temp_variance  \n",
       "8112    9:00:00  2012    06  18             -6  \n",
       "4750    0:00:00  2011    11  11             -4  \n",
       "3754    9:00:00  2011    09  07             -5  \n",
       "1268   16:00:00  2011    03  17             -7  \n",
       "10747   5:00:00  2012    12  14             -5  "
      ]
     },
     "execution_count": 18,
     "metadata": {},
     "output_type": "execute_result"
    }
   ],
   "source": [
    "# Double check \n",
    "df_engineered.sample(5)"
   ]
  },
  {
   "attachments": {},
   "cell_type": "markdown",
   "metadata": {},
   "source": [
    "### Distribution using Historgram"
   ]
  },
  {
   "cell_type": "code",
   "execution_count": 19,
   "metadata": {},
   "outputs": [
    {
     "data": {
      "image/png": "[encoded data removed]",
      "text/plain": [
       "<Figure size 1200x500 with 2 Axes>"
      ]
     },
     "metadata": {},
     "output_type": "display_data"
    },
    {
     "data": {
      "image/png": "[encoded data removed]",
      "text/plain": [
       "<Figure size 1200x500 with 2 Axes>"
      ]
     },
     "metadata": {},
     "output_type": "display_data"
    },
    {
     "data": {
      "image/png": "[encoded data removed]",
      "text/plain": [
       "<Figure size 1200x500 with 2 Axes>"
      ]
     },
     "metadata": {},
     "output_type": "display_data"
    },
    {
     "data": {
      "image/png": "[encoded data removed]",
      "text/plain": [
       "<Figure size 1200x500 with 2 Axes>"
      ]
     },
     "metadata": {},
     "output_type": "display_data"
    },
    {
     "data": {
      "image/png": "[encoded data removed]",
      "text/plain": [
       "<Figure size 1200x500 with 2 Axes>"
      ]
     },
     "metadata": {},
     "output_type": "display_data"
    },
    {
     "data": {
      "image/png": "[encoded data removed]",
      "text/plain": [
       "<Figure size 1200x500 with 2 Axes>"
      ]
     },
     "metadata": {},
     "output_type": "display_data"
    }
   ],
   "source": [
    "col_ax = 0\n",
    "row_limit = 5\n",
    "counter = 0\n",
    "fig, axes = plt.subplots(ncols=2, figsize=(12,5))\n",
    "# Iterate to all features and display Historgram\n",
    "for col in df_engineered.columns:\n",
    "    # Set Historgram \n",
    "    ax=sns.histplot(data=df_engineered, x=col, ax=axes[col_ax])\n",
    "    axes[col_ax].set_title(col.upper()+\" Distribution\", fontweight=\"bold\")\n",
    "    \n",
    "    # Display every 2 cols and set new fig\n",
    "    if col_ax == 1 and counter != row_limit:\n",
    "        fig.tight_layout()\n",
    "        fig, axes = plt.subplots(ncols=2, figsize=(12,5))\n",
    "        col_ax = 0\n",
    "        counter += 1\n",
    "    else:\n",
    "        col_ax += 1"
   ]
  },
  {
   "attachments": {},
   "cell_type": "markdown",
   "metadata": {},
   "source": [
    "- On Initial glance we can see that `holiday` and `temp_variance` have some `noise` or `outliers` that we need to look into"
   ]
  },
  {
   "cell_type": "code",
   "execution_count": 20,
   "metadata": {},
   "outputs": [
    {
     "data": {
      "text/plain": [
       "0    10575\n",
       "1      311\n",
       "Name: holiday, dtype: int64"
      ]
     },
     "execution_count": 20,
     "metadata": {},
     "output_type": "execute_result"
    }
   ],
   "source": [
    "# Check holiday\n",
    "df_engineered[\"holiday\"].value_counts()"
   ]
  },
  {
   "cell_type": "code",
   "execution_count": 21,
   "metadata": {},
   "outputs": [
    {
     "data": {
      "text/plain": [
       "01    71\n",
       "04    48\n",
       "07    48\n",
       "09    48\n",
       "10    48\n",
       "11    48\n",
       "Name: month, dtype: int64"
      ]
     },
     "execution_count": 21,
     "metadata": {},
     "output_type": "execute_result"
    }
   ],
   "source": [
    "# Filter only holidays\n",
    "holiday_filtered = df_engineered[df_engineered[\"holiday\"]==1]\n",
    "holiday_filtered[\"month\"].value_counts()"
   ]
  },
  {
   "cell_type": "code",
   "execution_count": 22,
   "metadata": {},
   "outputs": [
    {
     "data": {
      "text/plain": [
       "17    24\n",
       "16    24\n",
       "02    23\n",
       "Name: day, dtype: int64"
      ]
     },
     "execution_count": 22,
     "metadata": {},
     "output_type": "execute_result"
    }
   ],
   "source": [
    "# Filter January to check the days\n",
    "holi_month_filter =holiday_filtered[holiday_filtered[\"month\"]==\"01\"]\n",
    "holi_month_filter[\"day\"].value_counts()"
   ]
  },
  {
   "cell_type": "code",
   "execution_count": 23,
   "metadata": {},
   "outputs": [
    {
     "data": {
      "text/plain": [
       "01    48\n",
       "08    48\n",
       "15    48\n",
       "13    48\n",
       "09    48\n",
       "19    47\n",
       "14    47\n",
       "10    47\n",
       "07    47\n",
       "06    47\n",
       "05    47\n",
       "04    47\n",
       "11    46\n",
       "12    46\n",
       "03    46\n",
       "18    36\n",
       "16    24\n",
       "02    23\n",
       "17    23\n",
       "Name: day, dtype: int64"
      ]
     },
     "execution_count": 23,
     "metadata": {},
     "output_type": "execute_result"
    }
   ],
   "source": [
    "# Filter non-holiday for January to compare the days with holiday ones \n",
    "non_holiday_filtered = df_engineered[df_engineered[\"holiday\"]==0]\n",
    "non_holi_month_filter =non_holiday_filtered[non_holiday_filtered[\"month\"]==\"01\"]\n",
    "non_holi_month_filter[\"day\"].value_counts()"
   ]
  },
  {
   "attachments": {},
   "cell_type": "markdown",
   "metadata": {},
   "source": [
    "- Here we can see that `2nd, 16th and 17th of January` are both in `holiday` and `non-holiday` data meaning this column cannot be trusted and will just create inconsistency in our dataset so we can drop this feature"
   ]
  },
  {
   "cell_type": "code",
   "execution_count": 24,
   "metadata": {},
   "outputs": [],
   "source": [
    "# drop holiday\n",
    "df_engineered.drop(columns=\"holiday\",inplace= True)"
   ]
  },
  {
   "cell_type": "code",
   "execution_count": 25,
   "metadata": {},
   "outputs": [
    {
     "data": {
      "text/html": [
       "<div>\n",
       "<style scoped>\n",
       "    .dataframe tbody tr th:only-of-type {\n",
       "        vertical-align: middle;\n",
       "    }\n",
       "\n",
       "    .dataframe tbody tr th {\n",
       "        vertical-align: top;\n",
       "    }\n",
       "\n",
       "    .dataframe thead th {\n",
       "        text-align: right;\n",
       "    }\n",
       "</style>\n",
       "<table border=\"1\" class=\"dataframe\">\n",
       "  <thead>\n",
       "    <tr style=\"text-align: right;\">\n",
       "      <th></th>\n",
       "      <th>workingday</th>\n",
       "      <th>weather</th>\n",
       "      <th>temp</th>\n",
       "      <th>humidity</th>\n",
       "      <th>windspeed</th>\n",
       "      <th>count</th>\n",
       "      <th>time</th>\n",
       "      <th>year</th>\n",
       "      <th>month</th>\n",
       "      <th>day</th>\n",
       "      <th>temp_variance</th>\n",
       "    </tr>\n",
       "  </thead>\n",
       "  <tbody>\n",
       "    <tr>\n",
       "      <th>0</th>\n",
       "      <td>0</td>\n",
       "      <td>1</td>\n",
       "      <td>50</td>\n",
       "      <td>81</td>\n",
       "      <td>0.0</td>\n",
       "      <td>16</td>\n",
       "      <td>0:00:00</td>\n",
       "      <td>2011</td>\n",
       "      <td>01</td>\n",
       "      <td>01</td>\n",
       "      <td>-8</td>\n",
       "    </tr>\n",
       "    <tr>\n",
       "      <th>1</th>\n",
       "      <td>0</td>\n",
       "      <td>1</td>\n",
       "      <td>48</td>\n",
       "      <td>80</td>\n",
       "      <td>0.0</td>\n",
       "      <td>40</td>\n",
       "      <td>1:00:00</td>\n",
       "      <td>2011</td>\n",
       "      <td>01</td>\n",
       "      <td>01</td>\n",
       "      <td>-9</td>\n",
       "    </tr>\n",
       "    <tr>\n",
       "      <th>2</th>\n",
       "      <td>0</td>\n",
       "      <td>1</td>\n",
       "      <td>48</td>\n",
       "      <td>80</td>\n",
       "      <td>0.0</td>\n",
       "      <td>32</td>\n",
       "      <td>2:00:00</td>\n",
       "      <td>2011</td>\n",
       "      <td>01</td>\n",
       "      <td>01</td>\n",
       "      <td>-9</td>\n",
       "    </tr>\n",
       "    <tr>\n",
       "      <th>3</th>\n",
       "      <td>0</td>\n",
       "      <td>1</td>\n",
       "      <td>50</td>\n",
       "      <td>75</td>\n",
       "      <td>0.0</td>\n",
       "      <td>13</td>\n",
       "      <td>3:00:00</td>\n",
       "      <td>2011</td>\n",
       "      <td>01</td>\n",
       "      <td>01</td>\n",
       "      <td>-8</td>\n",
       "    </tr>\n",
       "    <tr>\n",
       "      <th>4</th>\n",
       "      <td>0</td>\n",
       "      <td>1</td>\n",
       "      <td>50</td>\n",
       "      <td>75</td>\n",
       "      <td>0.0</td>\n",
       "      <td>1</td>\n",
       "      <td>4:00:00</td>\n",
       "      <td>2011</td>\n",
       "      <td>01</td>\n",
       "      <td>01</td>\n",
       "      <td>-8</td>\n",
       "    </tr>\n",
       "  </tbody>\n",
       "</table>\n",
       "</div>"
      ],
      "text/plain": [
       "   workingday  weather  temp  humidity  windspeed  count     time  year month  \\\n",
       "0           0        1    50        81        0.0     16  0:00:00  2011    01   \n",
       "1           0        1    48        80        0.0     40  1:00:00  2011    01   \n",
       "2           0        1    48        80        0.0     32  2:00:00  2011    01   \n",
       "3           0        1    50        75        0.0     13  3:00:00  2011    01   \n",
       "4           0        1    50        75        0.0      1  4:00:00  2011    01   \n",
       "\n",
       "  day  temp_variance  \n",
       "0  01             -8  \n",
       "1  01             -9  \n",
       "2  01             -9  \n",
       "3  01             -8  \n",
       "4  01             -8  "
      ]
     },
     "execution_count": 25,
     "metadata": {},
     "output_type": "execute_result"
    }
   ],
   "source": [
    "# Double check\n",
    "df_engineered.head()"
   ]
  },
  {
   "cell_type": "code",
   "execution_count": 26,
   "metadata": {},
   "outputs": [
    {
     "data": {
      "text/plain": [
       " 31       1\n",
       " 24       1\n",
       " 34       1\n",
       " 30       1\n",
       " 41       2\n",
       "-14       2\n",
       " 40       2\n",
       " 33       2\n",
       " 39       3\n",
       " 27       3\n",
       " 28       3\n",
       " 3        4\n",
       " 25       5\n",
       "-13      12\n",
       " 2       12\n",
       " 1       30\n",
       " 0      109\n",
       "-11     110\n",
       "-12     167\n",
       "-1      214\n",
       "-10     286\n",
       "-2      373\n",
       "-9      549\n",
       "-3      590\n",
       "-5      853\n",
       "-4     1037\n",
       "-8     1286\n",
       "-6     1477\n",
       "-7     3751\n",
       "Name: temp_variance, dtype: int64"
      ]
     },
     "execution_count": 26,
     "metadata": {},
     "output_type": "execute_result"
    }
   ],
   "source": [
    "# Check for temp_variance\n",
    "df_engineered[\"temp_variance\"].value_counts(ascending=True)"
   ]
  },
  {
   "cell_type": "code",
   "execution_count": 27,
   "metadata": {},
   "outputs": [
    {
     "name": "stdout",
     "output_type": "stream",
     "text": [
      "we will be removing 0.28%\n"
     ]
    }
   ],
   "source": [
    "total = df_engineered[\"temp_variance\"].value_counts().sum()\n",
    "# Get percent of low occurrences >= 5 \n",
    "print(f\"we will be removing {round(((1+1+1+1+2+2+2+2+3+3+3+4+5)/total)*100,2)}%\")"
   ]
  },
  {
   "attachments": {},
   "cell_type": "markdown",
   "metadata": {},
   "source": [
    "- Here we can see all the `temp_variance` with least amount of occurrences, Even if we drop temp_variance with >= 5 occurrences we are only dropping 0.28% of our dataset"
   ]
  },
  {
   "cell_type": "code",
   "execution_count": 28,
   "metadata": {},
   "outputs": [],
   "source": [
    "# Drop noise temp_var <=2 \n",
    "df_engineered = df_engineered[df_engineered[\"temp_variance\"]<=2] "
   ]
  },
  {
   "cell_type": "code",
   "execution_count": 29,
   "metadata": {},
   "outputs": [
    {
     "data": {
      "text/plain": [
       " 2       12\n",
       "-13      12\n",
       " 1       30\n",
       " 0      109\n",
       "-11     110\n",
       "-12     167\n",
       "-1      214\n",
       "-10     286\n",
       "-2      373\n",
       "-9      549\n",
       "-3      590\n",
       "-5      853\n",
       "-4     1037\n",
       "-8     1286\n",
       "-6     1477\n",
       "-7     3751\n",
       "Name: temp_variance, dtype: int64"
      ]
     },
     "execution_count": 29,
     "metadata": {},
     "output_type": "execute_result"
    }
   ],
   "source": [
    "# Drop the -14 temp_var\n",
    "df_engineered = df_engineered[df_engineered[\"temp_variance\"]>= -13] \n",
    "df_engineered[\"temp_variance\"].value_counts(ascending=True)"
   ]
  },
  {
   "cell_type": "code",
   "execution_count": 30,
   "metadata": {},
   "outputs": [
    {
     "data": {
      "image/png": "[encoded data removed]",
      "text/plain": [
       "<Figure size 640x480 with 1 Axes>"
      ]
     },
     "metadata": {},
     "output_type": "display_data"
    }
   ],
   "source": [
    "# Double check histogram \n",
    "ax = sns.histplot(data=df_engineered, x=\"temp_variance\")\n",
    "ax.set_title(\"Temp_variance Distribution\", fontweight=\"bold\");"
   ]
  },
  {
   "attachments": {},
   "cell_type": "markdown",
   "metadata": {},
   "source": [
    "- Here we can see better distribution after removing the outliers from ` temp_variance` column\n",
    "- Now our dataset is ready for Preprocessing and Model prediction "
   ]
  },
  {
   "attachments": {},
   "cell_type": "markdown",
   "metadata": {},
   "source": [
    "## Preprocessing "
   ]
  },
  {
   "attachments": {},
   "cell_type": "markdown",
   "metadata": {},
   "source": [
    "### Assign Feature Matrices and Target Vector"
   ]
  },
  {
   "cell_type": "code",
   "execution_count": 31,
   "metadata": {},
   "outputs": [],
   "source": [
    "# Train test split for base dataframe\n",
    "X_base = df_base.drop(columns=\"count\")\n",
    "y_base = df_base[\"count\"] \n",
    "\n",
    "X_train_b, X_test_b, y_train_b, y_test_b = train_test_split(X_base,y_base,random_state=42)"
   ]
  },
  {
   "cell_type": "code",
   "execution_count": 32,
   "metadata": {},
   "outputs": [],
   "source": [
    "# Train test split for feature engineered dataframe\n",
    "X_eng = df_engineered.drop(columns=\"count\")\n",
    "y_eng = df_engineered[\"count\"] \n",
    "\n",
    "X_train_e, X_test_e, y_train_e, y_test_e = train_test_split(X_eng,y_eng,random_state=42)"
   ]
  },
  {
   "attachments": {},
   "cell_type": "markdown",
   "metadata": {},
   "source": [
    "### Custom class to instantiate Model and get Metric scores"
   ]
  },
  {
   "cell_type": "code",
   "execution_count": 33,
   "metadata": {},
   "outputs": [],
   "source": [
    "class ModelMaker:\n",
    "    def __init__(self, model, X_train, X_test, y_train, y_test) :\n",
    "        self.model = model\n",
    "        self.X_train = X_train\n",
    "        self.X_test = X_test\n",
    "        self.y_train = y_train\n",
    "        self.y_test = y_test\n",
    "\n",
    "        #Create selector\n",
    "        num_selector = make_column_selector(dtype_include=\"number\")\n",
    "        col_selector = make_column_selector(dtype_include=\"object\")\n",
    "\n",
    "        #Create scaler object \n",
    "        scaler = StandardScaler()\n",
    "        ohe = OneHotEncoder(handle_unknown=\"ignore\")\n",
    "\n",
    "        #Create preprocessor\n",
    "        num_tuple = (scaler, num_selector)\n",
    "        col_tuple = (ohe, col_selector)\n",
    "        preprocessor = make_column_transformer(num_tuple,col_tuple)\n",
    "        preprocessor\n",
    "        \n",
    "        #train the model\n",
    "        model_pipe = make_pipeline(preprocessor,self.model)\n",
    "        model_pipe.fit(X_train,y_train)    \n",
    "        #store data into the DataFrame\n",
    "        train_score = model_pipe.score(X_train, y_train)\n",
    "        test_score = model_pipe.score(X_test, y_test)\n",
    "        self.train_pred = model_pipe.predict(X_train)\n",
    "        self.test_pred = model_pipe.predict(X_test)\n",
    "\n",
    "        #use best param to tune hyperparameter and score metrics\n",
    "    def get_metrics(self,name):\n",
    "    \n",
    "        metrics = [{\n",
    "            \"model\" : name, \n",
    "            \n",
    "            \"test r-squared Score\" : round(r2_score(self.y_test, self.test_pred),3),\n",
    "            \"train r-squared Score\" : round(r2_score(self.y_train, self.train_pred),3), \n",
    "\n",
    "            \"test_MAE Score\": round(mean_absolute_error(self.y_test, self.test_pred),2),\n",
    "            \"train_MAE Score\" : round(mean_absolute_error(self.y_train, self.train_pred),2),\n",
    "\n",
    "            \"test_MSE Score\" : round(mean_squared_error(self.y_test, self.test_pred),2),\n",
    "            \"train_MSE Score\" : round(mean_squared_error(self.y_train, self.train_pred),2),\n",
    "            \n",
    "            \"train_RMSE Score\" : round(mean_squared_error(self.y_train, self.train_pred, squared=False),2),\n",
    "            \"test_RMSE Score\" : round(mean_squared_error(self.y_test, self.test_pred, squared=False),2)\n",
    "    \n",
    "        }]\n",
    "\n",
    "        temp_pd = pd.DataFrame.from_dict(metrics)\n",
    "        \n",
    "        self.indexed_df = temp_pd.set_index(\"model\")\n",
    "        return self.indexed_df"
   ]
  },
  {
   "cell_type": "code",
   "execution_count": 34,
   "metadata": {},
   "outputs": [],
   "source": [
    "# Instantiate Model with default params and base dataframe\n",
    "dt_base = ModelMaker(DecisionTreeRegressor(random_state=42),X_train_b,\n",
    "                     X_test_b,y_train_b,y_test_b)"
   ]
  },
  {
   "cell_type": "code",
   "execution_count": 35,
   "metadata": {},
   "outputs": [
    {
     "data": {
      "text/html": [
       "<div>\n",
       "<style scoped>\n",
       "    .dataframe tbody tr th:only-of-type {\n",
       "        vertical-align: middle;\n",
       "    }\n",
       "\n",
       "    .dataframe tbody tr th {\n",
       "        vertical-align: top;\n",
       "    }\n",
       "\n",
       "    .dataframe thead th {\n",
       "        text-align: right;\n",
       "    }\n",
       "</style>\n",
       "<table border=\"1\" class=\"dataframe\">\n",
       "  <thead>\n",
       "    <tr style=\"text-align: right;\">\n",
       "      <th></th>\n",
       "      <th>test r-squared Score</th>\n",
       "      <th>train r-squared Score</th>\n",
       "      <th>test_MAE Score</th>\n",
       "      <th>train_MAE Score</th>\n",
       "      <th>test_MSE Score</th>\n",
       "      <th>train_MSE Score</th>\n",
       "      <th>train_RMSE Score</th>\n",
       "      <th>test_RMSE Score</th>\n",
       "    </tr>\n",
       "    <tr>\n",
       "      <th>model</th>\n",
       "      <th></th>\n",
       "      <th></th>\n",
       "      <th></th>\n",
       "      <th></th>\n",
       "      <th></th>\n",
       "      <th></th>\n",
       "      <th></th>\n",
       "      <th></th>\n",
       "    </tr>\n",
       "  </thead>\n",
       "  <tbody>\n",
       "    <tr>\n",
       "      <th>dt_base</th>\n",
       "      <td>0.035</td>\n",
       "      <td>1.0</td>\n",
       "      <td>116.82</td>\n",
       "      <td>0.0</td>\n",
       "      <td>31657.37</td>\n",
       "      <td>0.0</td>\n",
       "      <td>0.0</td>\n",
       "      <td>177.93</td>\n",
       "    </tr>\n",
       "  </tbody>\n",
       "</table>\n",
       "</div>"
      ],
      "text/plain": [
       "         test r-squared Score  train r-squared Score  test_MAE Score  \\\n",
       "model                                                                  \n",
       "dt_base                 0.035                    1.0          116.82   \n",
       "\n",
       "         train_MAE Score  test_MSE Score  train_MSE Score  train_RMSE Score  \\\n",
       "model                                                                         \n",
       "dt_base              0.0        31657.37              0.0               0.0   \n",
       "\n",
       "         test_RMSE Score  \n",
       "model                     \n",
       "dt_base           177.93  "
      ]
     },
     "execution_count": 35,
     "metadata": {},
     "output_type": "execute_result"
    }
   ],
   "source": [
    "# show metric scores\n",
    "dt_base_score = dt_base.get_metrics(\"dt_base\")\n",
    "dt_base_score"
   ]
  },
  {
   "cell_type": "code",
   "execution_count": 36,
   "metadata": {},
   "outputs": [],
   "source": [
    "# Instantiate model with default params and Engineered dataframe \n",
    "dt_engineered = ModelMaker(DecisionTreeRegressor(random_state=42), X_train_e,\n",
    "                           X_test_e, y_train_e, y_test_e)"
   ]
  },
  {
   "cell_type": "code",
   "execution_count": 37,
   "metadata": {},
   "outputs": [
    {
     "data": {
      "text/html": [
       "<div>\n",
       "<style scoped>\n",
       "    .dataframe tbody tr th:only-of-type {\n",
       "        vertical-align: middle;\n",
       "    }\n",
       "\n",
       "    .dataframe tbody tr th {\n",
       "        vertical-align: top;\n",
       "    }\n",
       "\n",
       "    .dataframe thead th {\n",
       "        text-align: right;\n",
       "    }\n",
       "</style>\n",
       "<table border=\"1\" class=\"dataframe\">\n",
       "  <thead>\n",
       "    <tr style=\"text-align: right;\">\n",
       "      <th></th>\n",
       "      <th>test r-squared Score</th>\n",
       "      <th>train r-squared Score</th>\n",
       "      <th>test_MAE Score</th>\n",
       "      <th>train_MAE Score</th>\n",
       "      <th>test_MSE Score</th>\n",
       "      <th>train_MSE Score</th>\n",
       "      <th>train_RMSE Score</th>\n",
       "      <th>test_RMSE Score</th>\n",
       "    </tr>\n",
       "    <tr>\n",
       "      <th>model</th>\n",
       "      <th></th>\n",
       "      <th></th>\n",
       "      <th></th>\n",
       "      <th></th>\n",
       "      <th></th>\n",
       "      <th></th>\n",
       "      <th></th>\n",
       "      <th></th>\n",
       "    </tr>\n",
       "  </thead>\n",
       "  <tbody>\n",
       "    <tr>\n",
       "      <th>dt_engineered</th>\n",
       "      <td>0.815</td>\n",
       "      <td>1.0</td>\n",
       "      <td>46.74</td>\n",
       "      <td>0.0</td>\n",
       "      <td>6105.62</td>\n",
       "      <td>0.0</td>\n",
       "      <td>0.0</td>\n",
       "      <td>78.14</td>\n",
       "    </tr>\n",
       "  </tbody>\n",
       "</table>\n",
       "</div>"
      ],
      "text/plain": [
       "               test r-squared Score  train r-squared Score  test_MAE Score  \\\n",
       "model                                                                        \n",
       "dt_engineered                 0.815                    1.0           46.74   \n",
       "\n",
       "               train_MAE Score  test_MSE Score  train_MSE Score  \\\n",
       "model                                                             \n",
       "dt_engineered              0.0         6105.62              0.0   \n",
       "\n",
       "               train_RMSE Score  test_RMSE Score  \n",
       "model                                             \n",
       "dt_engineered               0.0            78.14  "
      ]
     },
     "execution_count": 37,
     "metadata": {},
     "output_type": "execute_result"
    }
   ],
   "source": [
    "# Show metric scores\n",
    "dt_eng_score = dt_engineered.get_metrics(\"dt_engineered\")\n",
    "dt_eng_score"
   ]
  },
  {
   "cell_type": "code",
   "execution_count": 38,
   "metadata": {},
   "outputs": [],
   "source": [
    "# Instantiate 2nd model with default params and base df \n",
    "bg_base = ModelMaker(BaggingRegressor(random_state=42), X_train_b,\n",
    "                     X_test_b, y_train_b, y_test_b)"
   ]
  },
  {
   "cell_type": "code",
   "execution_count": 39,
   "metadata": {},
   "outputs": [
    {
     "data": {
      "text/html": [
       "<div>\n",
       "<style scoped>\n",
       "    .dataframe tbody tr th:only-of-type {\n",
       "        vertical-align: middle;\n",
       "    }\n",
       "\n",
       "    .dataframe tbody tr th {\n",
       "        vertical-align: top;\n",
       "    }\n",
       "\n",
       "    .dataframe thead th {\n",
       "        text-align: right;\n",
       "    }\n",
       "</style>\n",
       "<table border=\"1\" class=\"dataframe\">\n",
       "  <thead>\n",
       "    <tr style=\"text-align: right;\">\n",
       "      <th></th>\n",
       "      <th>test r-squared Score</th>\n",
       "      <th>train r-squared Score</th>\n",
       "      <th>test_MAE Score</th>\n",
       "      <th>train_MAE Score</th>\n",
       "      <th>test_MSE Score</th>\n",
       "      <th>train_MSE Score</th>\n",
       "      <th>train_RMSE Score</th>\n",
       "      <th>test_RMSE Score</th>\n",
       "    </tr>\n",
       "    <tr>\n",
       "      <th>model</th>\n",
       "      <th></th>\n",
       "      <th></th>\n",
       "      <th></th>\n",
       "      <th></th>\n",
       "      <th></th>\n",
       "      <th></th>\n",
       "      <th></th>\n",
       "      <th></th>\n",
       "    </tr>\n",
       "  </thead>\n",
       "  <tbody>\n",
       "    <tr>\n",
       "      <th>bg_base</th>\n",
       "      <td>0.231</td>\n",
       "      <td>0.874</td>\n",
       "      <td>103.35</td>\n",
       "      <td>39.21</td>\n",
       "      <td>25245.48</td>\n",
       "      <td>4121.82</td>\n",
       "      <td>64.2</td>\n",
       "      <td>158.89</td>\n",
       "    </tr>\n",
       "  </tbody>\n",
       "</table>\n",
       "</div>"
      ],
      "text/plain": [
       "         test r-squared Score  train r-squared Score  test_MAE Score  \\\n",
       "model                                                                  \n",
       "bg_base                 0.231                  0.874          103.35   \n",
       "\n",
       "         train_MAE Score  test_MSE Score  train_MSE Score  train_RMSE Score  \\\n",
       "model                                                                         \n",
       "bg_base            39.21        25245.48          4121.82              64.2   \n",
       "\n",
       "         test_RMSE Score  \n",
       "model                     \n",
       "bg_base           158.89  "
      ]
     },
     "execution_count": 39,
     "metadata": {},
     "output_type": "execute_result"
    }
   ],
   "source": [
    "# Show metric scores\n",
    "bg_base_score = bg_base.get_metrics(\"bg_base\")\n",
    "bg_base_score\n"
   ]
  },
  {
   "cell_type": "code",
   "execution_count": 40,
   "metadata": {},
   "outputs": [],
   "source": [
    "# Instantiate 2nd model with default params and engineered df\n",
    "bg_engineered = ModelMaker(BaggingRegressor(random_state=42), X_train_e,\n",
    "                           X_test_e, y_train_e, y_test_e)"
   ]
  },
  {
   "cell_type": "code",
   "execution_count": 41,
   "metadata": {},
   "outputs": [],
   "source": [
    "# Show metric scores\n",
    "bg_eng_score = bg_engineered.get_metrics(\"bg_engineered\")"
   ]
  },
  {
   "cell_type": "code",
   "execution_count": 42,
   "metadata": {},
   "outputs": [],
   "source": [
    "# Instantiate 3rd model with default params and base df\n",
    "rf_base  = ModelMaker(RandomForestRegressor(random_state=42), X_train_b,\n",
    "                      X_test_b, y_train_b, y_test_b)"
   ]
  },
  {
   "cell_type": "code",
   "execution_count": 43,
   "metadata": {},
   "outputs": [
    {
     "data": {
      "text/html": [
       "<div>\n",
       "<style scoped>\n",
       "    .dataframe tbody tr th:only-of-type {\n",
       "        vertical-align: middle;\n",
       "    }\n",
       "\n",
       "    .dataframe tbody tr th {\n",
       "        vertical-align: top;\n",
       "    }\n",
       "\n",
       "    .dataframe thead th {\n",
       "        text-align: right;\n",
       "    }\n",
       "</style>\n",
       "<table border=\"1\" class=\"dataframe\">\n",
       "  <thead>\n",
       "    <tr style=\"text-align: right;\">\n",
       "      <th></th>\n",
       "      <th>test r-squared Score</th>\n",
       "      <th>train r-squared Score</th>\n",
       "      <th>test_MAE Score</th>\n",
       "      <th>train_MAE Score</th>\n",
       "      <th>test_MSE Score</th>\n",
       "      <th>train_MSE Score</th>\n",
       "      <th>train_RMSE Score</th>\n",
       "      <th>test_RMSE Score</th>\n",
       "    </tr>\n",
       "    <tr>\n",
       "      <th>model</th>\n",
       "      <th></th>\n",
       "      <th></th>\n",
       "      <th></th>\n",
       "      <th></th>\n",
       "      <th></th>\n",
       "      <th></th>\n",
       "      <th></th>\n",
       "      <th></th>\n",
       "    </tr>\n",
       "  </thead>\n",
       "  <tbody>\n",
       "    <tr>\n",
       "      <th>rf_base</th>\n",
       "      <td>0.245</td>\n",
       "      <td>0.897</td>\n",
       "      <td>101.35</td>\n",
       "      <td>37.67</td>\n",
       "      <td>24759.98</td>\n",
       "      <td>3375.35</td>\n",
       "      <td>58.1</td>\n",
       "      <td>157.35</td>\n",
       "    </tr>\n",
       "  </tbody>\n",
       "</table>\n",
       "</div>"
      ],
      "text/plain": [
       "         test r-squared Score  train r-squared Score  test_MAE Score  \\\n",
       "model                                                                  \n",
       "rf_base                 0.245                  0.897          101.35   \n",
       "\n",
       "         train_MAE Score  test_MSE Score  train_MSE Score  train_RMSE Score  \\\n",
       "model                                                                         \n",
       "rf_base            37.67        24759.98          3375.35              58.1   \n",
       "\n",
       "         test_RMSE Score  \n",
       "model                     \n",
       "rf_base           157.35  "
      ]
     },
     "execution_count": 43,
     "metadata": {},
     "output_type": "execute_result"
    }
   ],
   "source": [
    "# Show metric scores\n",
    "rf_base_score = rf_base.get_metrics(\"rf_base\")\n",
    "rf_base_score"
   ]
  },
  {
   "cell_type": "code",
   "execution_count": 44,
   "metadata": {},
   "outputs": [],
   "source": [
    "# Instantiate 3rd model with default params and engineered df\n",
    "rf_eng = ModelMaker(RandomForestRegressor(random_state=42), X_train_e,\n",
    "                    X_test_e, y_train_e, y_test_e)"
   ]
  },
  {
   "cell_type": "code",
   "execution_count": 45,
   "metadata": {},
   "outputs": [
    {
     "data": {
      "text/html": [
       "<div>\n",
       "<style scoped>\n",
       "    .dataframe tbody tr th:only-of-type {\n",
       "        vertical-align: middle;\n",
       "    }\n",
       "\n",
       "    .dataframe tbody tr th {\n",
       "        vertical-align: top;\n",
       "    }\n",
       "\n",
       "    .dataframe thead th {\n",
       "        text-align: right;\n",
       "    }\n",
       "</style>\n",
       "<table border=\"1\" class=\"dataframe\">\n",
       "  <thead>\n",
       "    <tr style=\"text-align: right;\">\n",
       "      <th></th>\n",
       "      <th>test r-squared Score</th>\n",
       "      <th>train r-squared Score</th>\n",
       "      <th>test_MAE Score</th>\n",
       "      <th>train_MAE Score</th>\n",
       "      <th>test_MSE Score</th>\n",
       "      <th>train_MSE Score</th>\n",
       "      <th>train_RMSE Score</th>\n",
       "      <th>test_RMSE Score</th>\n",
       "    </tr>\n",
       "    <tr>\n",
       "      <th>model</th>\n",
       "      <th></th>\n",
       "      <th></th>\n",
       "      <th></th>\n",
       "      <th></th>\n",
       "      <th></th>\n",
       "      <th></th>\n",
       "      <th></th>\n",
       "      <th></th>\n",
       "    </tr>\n",
       "  </thead>\n",
       "  <tbody>\n",
       "    <tr>\n",
       "      <th>rf_eng</th>\n",
       "      <td>0.902</td>\n",
       "      <td>0.988</td>\n",
       "      <td>35.86</td>\n",
       "      <td>12.79</td>\n",
       "      <td>3226.82</td>\n",
       "      <td>400.09</td>\n",
       "      <td>20.0</td>\n",
       "      <td>56.81</td>\n",
       "    </tr>\n",
       "  </tbody>\n",
       "</table>\n",
       "</div>"
      ],
      "text/plain": [
       "        test r-squared Score  train r-squared Score  test_MAE Score  \\\n",
       "model                                                                 \n",
       "rf_eng                 0.902                  0.988           35.86   \n",
       "\n",
       "        train_MAE Score  test_MSE Score  train_MSE Score  train_RMSE Score  \\\n",
       "model                                                                        \n",
       "rf_eng            12.79         3226.82           400.09              20.0   \n",
       "\n",
       "        test_RMSE Score  \n",
       "model                    \n",
       "rf_eng            56.81  "
      ]
     },
     "execution_count": 45,
     "metadata": {},
     "output_type": "execute_result"
    }
   ],
   "source": [
    "# Show metric score\n",
    "rf_eng_score = rf_eng.get_metrics(\"rf_eng\")\n",
    "rf_eng_score"
   ]
  },
  {
   "attachments": {},
   "cell_type": "markdown",
   "metadata": {},
   "source": [
    "## Overall Metric Scores "
   ]
  },
  {
   "cell_type": "code",
   "execution_count": 46,
   "metadata": {},
   "outputs": [],
   "source": [
    "# get final scores \n",
    "final_score = pd.concat([dt_base_score,dt_eng_score, bg_base_score,\n",
    "                        bg_eng_score, rf_base_score, rf_eng_score])"
   ]
  },
  {
   "cell_type": "code",
   "execution_count": 47,
   "metadata": {},
   "outputs": [
    {
     "data": {
      "text/html": [
       "<div>\n",
       "<style scoped>\n",
       "    .dataframe tbody tr th:only-of-type {\n",
       "        vertical-align: middle;\n",
       "    }\n",
       "\n",
       "    .dataframe tbody tr th {\n",
       "        vertical-align: top;\n",
       "    }\n",
       "\n",
       "    .dataframe thead th {\n",
       "        text-align: right;\n",
       "    }\n",
       "</style>\n",
       "<table border=\"1\" class=\"dataframe\">\n",
       "  <thead>\n",
       "    <tr style=\"text-align: right;\">\n",
       "      <th></th>\n",
       "      <th>test r-squared Score</th>\n",
       "      <th>train r-squared Score</th>\n",
       "      <th>test_MAE Score</th>\n",
       "      <th>train_MAE Score</th>\n",
       "      <th>test_MSE Score</th>\n",
       "      <th>train_MSE Score</th>\n",
       "      <th>train_RMSE Score</th>\n",
       "      <th>test_RMSE Score</th>\n",
       "    </tr>\n",
       "    <tr>\n",
       "      <th>model</th>\n",
       "      <th></th>\n",
       "      <th></th>\n",
       "      <th></th>\n",
       "      <th></th>\n",
       "      <th></th>\n",
       "      <th></th>\n",
       "      <th></th>\n",
       "      <th></th>\n",
       "    </tr>\n",
       "  </thead>\n",
       "  <tbody>\n",
       "    <tr>\n",
       "      <th>dt_base</th>\n",
       "      <td>0.035</td>\n",
       "      <td>1.000</td>\n",
       "      <td>116.82</td>\n",
       "      <td>0.00</td>\n",
       "      <td>31657.37</td>\n",
       "      <td>0.00</td>\n",
       "      <td>0.00</td>\n",
       "      <td>177.93</td>\n",
       "    </tr>\n",
       "    <tr>\n",
       "      <th>dt_engineered</th>\n",
       "      <td>0.815</td>\n",
       "      <td>1.000</td>\n",
       "      <td>46.74</td>\n",
       "      <td>0.00</td>\n",
       "      <td>6105.62</td>\n",
       "      <td>0.00</td>\n",
       "      <td>0.00</td>\n",
       "      <td>78.14</td>\n",
       "    </tr>\n",
       "    <tr>\n",
       "      <th>bg_base</th>\n",
       "      <td>0.231</td>\n",
       "      <td>0.874</td>\n",
       "      <td>103.35</td>\n",
       "      <td>39.21</td>\n",
       "      <td>25245.48</td>\n",
       "      <td>4121.82</td>\n",
       "      <td>64.20</td>\n",
       "      <td>158.89</td>\n",
       "    </tr>\n",
       "    <tr>\n",
       "      <th>bg_engineered</th>\n",
       "      <td>0.896</td>\n",
       "      <td>0.983</td>\n",
       "      <td>36.58</td>\n",
       "      <td>14.30</td>\n",
       "      <td>3417.78</td>\n",
       "      <td>559.25</td>\n",
       "      <td>23.65</td>\n",
       "      <td>58.46</td>\n",
       "    </tr>\n",
       "    <tr>\n",
       "      <th>rf_base</th>\n",
       "      <td>0.245</td>\n",
       "      <td>0.897</td>\n",
       "      <td>101.35</td>\n",
       "      <td>37.67</td>\n",
       "      <td>24759.98</td>\n",
       "      <td>3375.35</td>\n",
       "      <td>58.10</td>\n",
       "      <td>157.35</td>\n",
       "    </tr>\n",
       "    <tr>\n",
       "      <th>rf_eng</th>\n",
       "      <td>0.902</td>\n",
       "      <td>0.988</td>\n",
       "      <td>35.86</td>\n",
       "      <td>12.79</td>\n",
       "      <td>3226.82</td>\n",
       "      <td>400.09</td>\n",
       "      <td>20.00</td>\n",
       "      <td>56.81</td>\n",
       "    </tr>\n",
       "  </tbody>\n",
       "</table>\n",
       "</div>"
      ],
      "text/plain": [
       "               test r-squared Score  train r-squared Score  test_MAE Score  \\\n",
       "model                                                                        \n",
       "dt_base                       0.035                  1.000          116.82   \n",
       "dt_engineered                 0.815                  1.000           46.74   \n",
       "bg_base                       0.231                  0.874          103.35   \n",
       "bg_engineered                 0.896                  0.983           36.58   \n",
       "rf_base                       0.245                  0.897          101.35   \n",
       "rf_eng                        0.902                  0.988           35.86   \n",
       "\n",
       "               train_MAE Score  test_MSE Score  train_MSE Score  \\\n",
       "model                                                             \n",
       "dt_base                   0.00        31657.37             0.00   \n",
       "dt_engineered             0.00         6105.62             0.00   \n",
       "bg_base                  39.21        25245.48          4121.82   \n",
       "bg_engineered            14.30         3417.78           559.25   \n",
       "rf_base                  37.67        24759.98          3375.35   \n",
       "rf_eng                   12.79         3226.82           400.09   \n",
       "\n",
       "               train_RMSE Score  test_RMSE Score  \n",
       "model                                             \n",
       "dt_base                    0.00           177.93  \n",
       "dt_engineered              0.00            78.14  \n",
       "bg_base                   64.20           158.89  \n",
       "bg_engineered             23.65            58.46  \n",
       "rf_base                   58.10           157.35  \n",
       "rf_eng                    20.00            56.81  "
      ]
     },
     "execution_count": 47,
     "metadata": {},
     "output_type": "execute_result"
    }
   ],
   "source": [
    "# Display final score\n",
    "final_score"
   ]
  },
  {
   "attachments": {},
   "cell_type": "markdown",
   "metadata": {},
   "source": [
    "## Conclusion"
   ]
  },
  {
   "attachments": {},
   "cell_type": "markdown",
   "metadata": {},
   "source": [
    "- There's no denying how bad our models performed on base dataframe, Our models had a hard time finding patterns with the base df resulting to overfitted models and horrible predictions on test sets.\n",
    "- Overall,  `RandomForest` outperformed the other 2 models with default parameter setup boasting the highest R2 score(higher the better) on test set and lowest MAE score (lower the better) "
   ]
  }
 ],
 "metadata": {
  "kernelspec": {
   "display_name": "dojo-env",
   "language": "python",
   "name": "python3"
  },
  "language_info": {
   "codemirror_mode": {
    "name": "ipython",
    "version": 3
   },
   "file_extension": ".py",
   "mimetype": "text/x-python",
   "name": "python",
   "nbconvert_exporter": "python",
   "pygments_lexer": "ipython3",
   "version": "3.9.15"
  },
  "orig_nbformat": 4
 },
 "nbformat": 4,
 "nbformat_minor": 2
}
